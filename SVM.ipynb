{
  "nbformat": 4,
  "nbformat_minor": 0,
  "metadata": {
    "colab": {
      "name": "SVM-KFOLD.ipynb",
      "provenance": [],
      "collapsed_sections": []
    },
    "kernelspec": {
      "name": "python3",
      "display_name": "Python 3"
    }
  },
  "cells": [
    {
      "cell_type": "code",
      "metadata": {
        "id": "zqUTPOCVPdKH",
        "colab_type": "code",
        "colab": {}
      },
      "source": [
        "#Importando bibliotacas \n",
        "import pandas as pd\n",
        "import numpy as np\n",
        "import matplotlib.pyplot as plt\n",
        "import numpy as np\n",
        "from sklearn.svm import SVC\n",
        "from sklearn.model_selection import KFold\n",
        "from sklearn.metrics import classification_report, confusion_matrix"
      ],
      "execution_count": 1,
      "outputs": []
    },
    {
      "cell_type": "code",
      "metadata": {
        "id": "OuxP8q1uPiWl",
        "colab_type": "code",
        "colab": {}
      },
      "source": [
        "url = \"https://raw.githubusercontent.com/v1eira/heart-attack-in/master/heart.csv\"\n",
        "\n",
        "names = ['age', 'sex', 'cp', 'trestbps', 'chol', 'fbs', 'restecg', 'thalach', 'exang', 'oldpeak', 'slope', 'ca', 'thal', 'target']\n",
        "\n",
        "dataset = pd.read_csv(url, names=names, skiprows=1)"
      ],
      "execution_count": 2,
      "outputs": []
    },
    {
      "cell_type": "code",
      "metadata": {
        "id": "M9xww3imPj5c",
        "colab_type": "code",
        "colab": {
          "base_uri": "https://localhost:8080/",
          "height": 195
        },
        "outputId": "e3a0f71e-ff3a-4e74-e355-9c7d107156aa"
      },
      "source": [
        "dataset.head()"
      ],
      "execution_count": 3,
      "outputs": [
        {
          "output_type": "execute_result",
          "data": {
            "text/html": [
              "<div>\n",
              "<style scoped>\n",
              "    .dataframe tbody tr th:only-of-type {\n",
              "        vertical-align: middle;\n",
              "    }\n",
              "\n",
              "    .dataframe tbody tr th {\n",
              "        vertical-align: top;\n",
              "    }\n",
              "\n",
              "    .dataframe thead th {\n",
              "        text-align: right;\n",
              "    }\n",
              "</style>\n",
              "<table border=\"1\" class=\"dataframe\">\n",
              "  <thead>\n",
              "    <tr style=\"text-align: right;\">\n",
              "      <th></th>\n",
              "      <th>age</th>\n",
              "      <th>sex</th>\n",
              "      <th>cp</th>\n",
              "      <th>trestbps</th>\n",
              "      <th>chol</th>\n",
              "      <th>fbs</th>\n",
              "      <th>restecg</th>\n",
              "      <th>thalach</th>\n",
              "      <th>exang</th>\n",
              "      <th>oldpeak</th>\n",
              "      <th>slope</th>\n",
              "      <th>ca</th>\n",
              "      <th>thal</th>\n",
              "      <th>target</th>\n",
              "    </tr>\n",
              "  </thead>\n",
              "  <tbody>\n",
              "    <tr>\n",
              "      <th>0</th>\n",
              "      <td>63</td>\n",
              "      <td>1</td>\n",
              "      <td>3</td>\n",
              "      <td>145</td>\n",
              "      <td>233</td>\n",
              "      <td>1</td>\n",
              "      <td>0</td>\n",
              "      <td>150</td>\n",
              "      <td>0</td>\n",
              "      <td>2.3</td>\n",
              "      <td>0</td>\n",
              "      <td>0</td>\n",
              "      <td>1</td>\n",
              "      <td>1</td>\n",
              "    </tr>\n",
              "    <tr>\n",
              "      <th>1</th>\n",
              "      <td>37</td>\n",
              "      <td>1</td>\n",
              "      <td>2</td>\n",
              "      <td>130</td>\n",
              "      <td>250</td>\n",
              "      <td>0</td>\n",
              "      <td>1</td>\n",
              "      <td>187</td>\n",
              "      <td>0</td>\n",
              "      <td>3.5</td>\n",
              "      <td>0</td>\n",
              "      <td>0</td>\n",
              "      <td>2</td>\n",
              "      <td>1</td>\n",
              "    </tr>\n",
              "    <tr>\n",
              "      <th>2</th>\n",
              "      <td>41</td>\n",
              "      <td>0</td>\n",
              "      <td>1</td>\n",
              "      <td>130</td>\n",
              "      <td>204</td>\n",
              "      <td>0</td>\n",
              "      <td>0</td>\n",
              "      <td>172</td>\n",
              "      <td>0</td>\n",
              "      <td>1.4</td>\n",
              "      <td>2</td>\n",
              "      <td>0</td>\n",
              "      <td>2</td>\n",
              "      <td>1</td>\n",
              "    </tr>\n",
              "    <tr>\n",
              "      <th>3</th>\n",
              "      <td>56</td>\n",
              "      <td>1</td>\n",
              "      <td>1</td>\n",
              "      <td>120</td>\n",
              "      <td>236</td>\n",
              "      <td>0</td>\n",
              "      <td>1</td>\n",
              "      <td>178</td>\n",
              "      <td>0</td>\n",
              "      <td>0.8</td>\n",
              "      <td>2</td>\n",
              "      <td>0</td>\n",
              "      <td>2</td>\n",
              "      <td>1</td>\n",
              "    </tr>\n",
              "    <tr>\n",
              "      <th>4</th>\n",
              "      <td>57</td>\n",
              "      <td>0</td>\n",
              "      <td>0</td>\n",
              "      <td>120</td>\n",
              "      <td>354</td>\n",
              "      <td>0</td>\n",
              "      <td>1</td>\n",
              "      <td>163</td>\n",
              "      <td>1</td>\n",
              "      <td>0.6</td>\n",
              "      <td>2</td>\n",
              "      <td>0</td>\n",
              "      <td>2</td>\n",
              "      <td>1</td>\n",
              "    </tr>\n",
              "  </tbody>\n",
              "</table>\n",
              "</div>"
            ],
            "text/plain": [
              "   age  sex  cp  trestbps  chol  fbs  ...  exang  oldpeak  slope  ca  thal  target\n",
              "0   63    1   3       145   233    1  ...      0      2.3      0   0     1       1\n",
              "1   37    1   2       130   250    0  ...      0      3.5      0   0     2       1\n",
              "2   41    0   1       130   204    0  ...      0      1.4      2   0     2       1\n",
              "3   56    1   1       120   236    0  ...      0      0.8      2   0     2       1\n",
              "4   57    0   0       120   354    0  ...      1      0.6      2   0     2       1\n",
              "\n",
              "[5 rows x 14 columns]"
            ]
          },
          "metadata": {
            "tags": []
          },
          "execution_count": 3
        }
      ]
    },
    {
      "cell_type": "code",
      "metadata": {
        "id": "cK-rZKqcPoKs",
        "colab_type": "code",
        "colab": {}
      },
      "source": [
        "attributes = dataset.drop('target', axis=1)\n",
        "targets = dataset['target']"
      ],
      "execution_count": 4,
      "outputs": []
    },
    {
      "cell_type": "code",
      "metadata": {
        "id": "m_OXh2z4k9LA",
        "colab_type": "code",
        "colab": {}
      },
      "source": [
        "def getAccumulatedConfusionMatrix(attributes, targets, kernelType):\n",
        "  kf = KFold(n_splits=5)\n",
        "  kf.get_n_splits(attributes)\n",
        "\n",
        "  finalMatrix = [[0,0],[0,0]]\n",
        "\n",
        "  for train_index, test_index in kf.split(attributes):\n",
        "    X_train, X_test = attributes.values[train_index], attributes.values[test_index]\n",
        "    y_train, y_test = targets.values[train_index], targets.values[test_index]\n",
        "\n",
        "    classifier = SVC(kernel=kernelType)\n",
        "    classifier.fit(X_train, y_train)\n",
        "\n",
        "    predict = classifier.predict(X_test)\n",
        "\n",
        "    matrix = confusion_matrix(y_test,predict)\n",
        "    \n",
        "\n",
        "    finalMatrix+= matrix\n",
        "  #endFor\n",
        "  return finalMatrix\n",
        "#endGetAccumulatedConfusionMatrix"
      ],
      "execution_count": 5,
      "outputs": []
    },
    {
      "cell_type": "code",
      "metadata": {
        "id": "pqiatN9eonZX",
        "colab_type": "code",
        "colab": {}
      },
      "source": [
        "def getRates(mat): \n",
        "    tp = mat[0][0] \n",
        "    fp = mat[0][1] \n",
        "    fn = mat[1][0] \n",
        "    tn = mat[1][1] \n",
        "    return tp/(tp+fp), tp/(tp+fn)\n",
        "#endGetRates"
      ],
      "execution_count": 6,
      "outputs": []
    },
    {
      "cell_type": "code",
      "metadata": {
        "id": "4y7-5UJbQo-5",
        "colab_type": "code",
        "colab": {
          "base_uri": "https://localhost:8080/",
          "height": 235
        },
        "outputId": "9cd147fa-4be4-4cc1-ace9-e175243dcfa0"
      },
      "source": [
        "matrixLinear = getAccumulatedConfusionMatrix(attributes, targets, 'linear')\n",
        "matrixRbf = getAccumulatedConfusionMatrix(attributes, targets, 'rbf')\n",
        "\n",
        "kenelLinearRates = getRates(matrixLinear)\n",
        "\n",
        "print(\"Kernel Linear\")\n",
        "print(\"Matriz\")\n",
        "print(matrixLinear)\n",
        "print(\"Precisão\", kenelLinearRates[0] )\n",
        "print(\"Recall\", kenelLinearRates[1] )\n",
        "print()\n",
        "kenelRbfRates = getRates(matrixRbf)\n",
        "print(\"Kernel RBF\")\n",
        "print(\"Matriz\")\n",
        "print(matrixRbf)\n",
        "print(\"Precisão\", kenelRbfRates[0] )\n",
        "print(\"Recall\", kenelRbfRates[1] )"
      ],
      "execution_count": 7,
      "outputs": [
        {
          "output_type": "stream",
          "text": [
            "Kernel Linear\n",
            "Matriz\n",
            "[[ 95  43]\n",
            " [ 29 136]]\n",
            "Precisão 0.6884057971014492\n",
            "Recall 0.7661290322580645\n",
            "\n",
            "Kernel RBF\n",
            "Matriz\n",
            "[[ 10 128]\n",
            " [ 79  86]]\n",
            "Precisão 0.07246376811594203\n",
            "Recall 0.11235955056179775\n"
          ],
          "name": "stdout"
        }
      ]
    }
  ]
}
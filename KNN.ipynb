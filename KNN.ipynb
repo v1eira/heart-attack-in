{
  "nbformat": 4,
  "nbformat_minor": 0,
  "metadata": {
    "colab": {
      "name": "KNN-2.ipynb",
      "provenance": [],
      "collapsed_sections": []
    },
    "kernelspec": {
      "name": "python3",
      "display_name": "Python 3"
    }
  },
  "cells": [
    {
      "cell_type": "code",
      "metadata": {
        "id": "taba7EvkO0Ee",
        "colab_type": "code",
        "colab": {}
      },
      "source": [
        "# Importando as bibliotecas necessárias\n",
        "\n",
        "from sklearn.metrics import classification_report, confusion_matrix\n",
        "\n",
        "import numpy as np\n",
        "import matplotlib.pyplot as plt\n",
        "import pandas as pd"
      ],
      "execution_count": 536,
      "outputs": []
    },
    {
      "cell_type": "code",
      "metadata": {
        "id": "Ye4ZudKaO-WL",
        "colab_type": "code",
        "colab": {}
      },
      "source": [
        "url = \"https://raw.githubusercontent.com/v1eira/heart-attack-in/master/heart.csv\"\n",
        "\n",
        "# Nomes das colunas no dataset\n",
        "columns = ['age', 'sex', 'cp', 'trestbps', 'chol', 'fbs', 'restecg', 'thalach', 'exang', 'oldpeak', 'slope', 'ca', 'thal', 'target']\n",
        "\n",
        "# Lendo o csv\n",
        "dataset = pd.read_csv(url, names=columns, skiprows=1)"
      ],
      "execution_count": 537,
      "outputs": []
    },
    {
      "cell_type": "code",
      "metadata": {
        "id": "qpM04-wCPB1_",
        "colab_type": "code",
        "colab": {}
      },
      "source": [
        "X = dataset.iloc[:, :-1].values\n",
        "y = dataset.iloc[:, 13].values"
      ],
      "execution_count": 538,
      "outputs": []
    },
    {
      "cell_type": "code",
      "metadata": {
        "id": "re7yqv-go1se",
        "colab_type": "code",
        "colab": {}
      },
      "source": [
        "# Função que retorna precisão e recall da matrix\n",
        "def Scores(matrix):\n",
        "  tp = matrix[0][0]\n",
        "  fp = matrix[0][1]\n",
        "  fn = matrix[1][0]\n",
        "  tn = matrix[1][1]\n",
        "  return tp/(tp+fp), tp/(tp+fn)"
      ],
      "execution_count": 539,
      "outputs": []
    },
    {
      "cell_type": "code",
      "metadata": {
        "id": "wBI0DSoPPEoM",
        "colab_type": "code",
        "colab": {}
      },
      "source": [
        "from sklearn.model_selection import KFold\n",
        " \n",
        "# Função que retorna a matriz de confusão e suas informações\n",
        "def makeConfusionMatrix(X, classifier):\n",
        "  kf = KFold(n_splits=5)\n",
        " \n",
        "  all_matrices = []\n",
        "  avg_accuracy = 0\n",
        " \n",
        "  for train_index, test_index in kf.split(X):\n",
        " \n",
        "    X_train, X_test = X[train_index], X[test_index]\n",
        "    y_train, y_test = y[train_index], y[test_index]\n",
        "    \n",
        "    classifier.fit(X_train, y_train)\n",
        "    y_pred = classifier.predict(X_test)\n",
        "    \n",
        "    mat = confusion_matrix(y_test, y_pred)\n",
        "    all_matrices.append(mat)\n",
        " \n",
        "    clf = classification_report(y_test, y_pred, output_dict=True, zero_division=1)\n",
        "    avg_accuracy += clf['accuracy']\n",
        "  # for\n",
        " \n",
        "  confMatrix = all_matrices[0]\n",
        "  for i in range(len(all_matrices)):\n",
        "    if i > 0:\n",
        "      confMatrix += all_matrices[i]\n",
        "    # if\n",
        "  # for\n",
        " \n",
        "  scores = Scores(confMatrix)\n",
        "  \n",
        "  print(confMatrix, '\\n')\n",
        "  print('Média das acurácias: ', (avg_accuracy / 5))\n",
        "  print('Precisão: ', scores[0])\n",
        "  print('Recall: ', scores[1])\n",
        " \n",
        "# makeConfusionMatrix"
      ],
      "execution_count": 540,
      "outputs": []
    },
    {
      "cell_type": "code",
      "metadata": {
        "id": "s0YJ9j2fPGVy",
        "colab_type": "code",
        "colab": {
          "base_uri": "https://localhost:8080/",
          "height": 118
        },
        "outputId": "7683aa0d-8f37-4f90-cdb7-df1dfdc25153"
      },
      "source": [
        "from sklearn.neighbors import KNeighborsClassifier\n",
        "\n",
        "# Neighbors = 3\n",
        "classifier = KNeighborsClassifier(n_neighbors=3)\n",
        "makeConfusionMatrix(X, classifier)"
      ],
      "execution_count": 541,
      "outputs": [
        {
          "output_type": "stream",
          "text": [
            "[[56 82]\n",
            " [70 95]] \n",
            "\n",
            "Média das acurácias:  0.4975409836065573\n",
            "Precisão:  0.4057971014492754\n",
            "Recall:  0.4444444444444444\n"
          ],
          "name": "stdout"
        }
      ]
    },
    {
      "cell_type": "code",
      "metadata": {
        "id": "2oJeYXdhao5m",
        "colab_type": "code",
        "colab": {
          "base_uri": "https://localhost:8080/",
          "height": 118
        },
        "outputId": "30ce15a6-eb6a-4557-f746-04b6e1c1aebb"
      },
      "source": [
        "# Neighbors = 5\n",
        "classifier = KNeighborsClassifier(n_neighbors=5)\n",
        "makeConfusionMatrix(X, classifier)"
      ],
      "execution_count": 542,
      "outputs": [
        {
          "output_type": "stream",
          "text": [
            "[[53 85]\n",
            " [67 98]] \n",
            "\n",
            "Média das acurácias:  0.4973770491803279\n",
            "Precisão:  0.38405797101449274\n",
            "Recall:  0.44166666666666665\n"
          ],
          "name": "stdout"
        }
      ]
    },
    {
      "cell_type": "code",
      "metadata": {
        "id": "aYsVUUEoaxFn",
        "colab_type": "code",
        "colab": {
          "base_uri": "https://localhost:8080/",
          "height": 118
        },
        "outputId": "f93238fd-80ab-4c11-be23-42de94402127"
      },
      "source": [
        "# Neighbors = 7\n",
        "classifier = KNeighborsClassifier(n_neighbors=7)\n",
        "makeConfusionMatrix(X, classifier)"
      ],
      "execution_count": 543,
      "outputs": [
        {
          "output_type": "stream",
          "text": [
            "[[ 49  89]\n",
            " [ 65 100]] \n",
            "\n",
            "Média das acurácias:  0.49065573770491816\n",
            "Precisão:  0.35507246376811596\n",
            "Recall:  0.4298245614035088\n"
          ],
          "name": "stdout"
        }
      ]
    },
    {
      "cell_type": "code",
      "metadata": {
        "id": "XAfS6dvzazHA",
        "colab_type": "code",
        "colab": {
          "base_uri": "https://localhost:8080/",
          "height": 118
        },
        "outputId": "a81b6bd4-5ce7-490a-a374-6d5ec6d4c1fe"
      },
      "source": [
        "# Neighbors = 9\n",
        "classifier = KNeighborsClassifier(n_neighbors=9)\n",
        "makeConfusionMatrix(X, classifier)"
      ],
      "execution_count": 544,
      "outputs": [
        {
          "output_type": "stream",
          "text": [
            "[[ 51  87]\n",
            " [ 63 102]] \n",
            "\n",
            "Média das acurácias:  0.5038797814207651\n",
            "Precisão:  0.3695652173913043\n",
            "Recall:  0.4473684210526316\n"
          ],
          "name": "stdout"
        }
      ]
    }
  ]
}